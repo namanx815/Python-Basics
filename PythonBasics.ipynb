{
  "nbformat": 4,
  "nbformat_minor": 0,
  "metadata": {
    "colab": {
      "provenance": []
    },
    "kernelspec": {
      "name": "python3",
      "display_name": "Python 3"
    },
    "language_info": {
      "name": "python"
    }
  },
  "cells": [
    {
      "cell_type": "markdown",
      "source": [
        "#Python Basics\n"
      ],
      "metadata": {
        "id": "xvQlmvlkojQY"
      }
    },
    {
      "cell_type": "markdown",
      "source": [
        "1. What is Python, and why is it popular?\n",
        "   - Python is a high-level programming language that's known for being easy to read and write. It has simple syntax, is versatile has massiv e community and free and open source.\n",
        "\n",
        "2. What is an interpreter in Python?\n",
        "   - An interpreter in Python is a program that reads and runs Python code line by line instead of compiling it all at once.\n",
        "\n",
        "3. What are pre-defined keywords in Python?\n",
        "   - Pre-defined keywords in Python are special words that have specific meanings and can’t be used as variable names or function names because Python uses them to understand your code.\n",
        "  \n",
        "4. Can keywords be used as variable names?\n",
        "   - No, keywords cannot be used as variable names as keyword.\n",
        "\n",
        "5. What is mutability in Python?\n",
        "   - Mutability in Python means whether or not an object’s value can be changed after it’s created.\n",
        "\n",
        "6. Why are lists mutable, but tuples are immutable?\n",
        "   - Lists are mutable:Lists are designed to hold changing collections of items.They’re built with internal structures that allow adding, removing, or changing elements.This makes them flexible for dynamic data.\n",
        "   Tuples are immutable:Tuples are meant to represent fixed collections of items.Once a tuple is created, its contents are locked.This makes them faster and safer, especially when used as keys in dictionaries or in constant data.\n",
        "\n",
        "7. What is the difference between “==” and “is” operators in Python?\n",
        "   - \"==\" checks whether the two values are equal in content even if they are different objects while \"is\" operator is used to compare if two variables point to the same object in memory.\n",
        "\n",
        "8. What are logical operators in Python?\n",
        "   - Logical operators in Python are used to combine multiple condition\n",
        "   and return either True or False.They are AND,OR and NOT.\n",
        "\n",
        "9. What is type casting in Python?\n",
        "   - Type casting in Python means converting a value from one data type to another. There are two types of type conversion implicit and explicit.\n",
        "   Type conversion can be done using int() float() bool() str().\n",
        "\n",
        "10. What is the difference between implicit and explicit type casting?\n",
        "   - In Explicit type conversion user tell python to convert one type of data type to another using functions like int(),float(),bool(),str().\n",
        "   While in Implicit type conversion python automatically converts the data type during an opeartion when needed.\n",
        "\n",
        "11. What is the purpose of conditional statements in Python?\n",
        "   - The purpose of conditional statements in Python is to let your program make decisions and run different code depending on conditions.\n",
        "\n",
        "12. How does the elif statement work?\n",
        "   - The elif statement in Python is used to check additional conditions after an if statement. It helps you test multiple conditions in a sequence without needing to nest if statements.\n",
        "\n",
        "13. What is the difference between for and while loops?\n",
        "   - for loop: Loops over a sequence or a known range.\n",
        "     while loop: Loops while a condition is true.\n",
        "\n",
        "14. Describe a scenario where a while loop is more suitable than a for loop?\n",
        "   - A while loop is more suitable than a for loop when the number of iterations isn't known ahead of time and you need the loop to continue until a specific condition is met.\n",
        "   Scenario: Waiting for User Input\n",
        "   Imagine you're writing a program that asks a user to enter a valid password, but you don't know how many attempts they'll need. The loop should continue until the user enters the correct password.\n",
        "\n"
      ],
      "metadata": {
        "id": "uhPe-BNuoz_j"
      }
    },
    {
      "cell_type": "code",
      "source": [
        "#Question 1\n",
        "\n",
        "print(\"Hello World\")"
      ],
      "metadata": {
        "colab": {
          "base_uri": "https://localhost:8080/"
        },
        "id": "sNKRQDhNvONb",
        "outputId": "1d101340-5bd5-46f8-cab8-88dd5ff96480"
      },
      "execution_count": 1,
      "outputs": [
        {
          "output_type": "stream",
          "name": "stdout",
          "text": [
            "Hello World\n"
          ]
        }
      ]
    },
    {
      "cell_type": "code",
      "source": [
        "#Question 2\n",
        "\n",
        "print(\"Name:Naman Surana\");\n",
        "print(\"Age:20\")"
      ],
      "metadata": {
        "colab": {
          "base_uri": "https://localhost:8080/"
        },
        "id": "vKPGcDrmvUQ9",
        "outputId": "ea929b37-70f4-48a2-c5c4-41ea0b7c9525"
      },
      "execution_count": 2,
      "outputs": [
        {
          "output_type": "stream",
          "name": "stdout",
          "text": [
            "Name:Naman Surana\n",
            "Age:20\n"
          ]
        }
      ]
    },
    {
      "cell_type": "code",
      "source": [
        "#Question 3\n",
        "\n",
        "import keyword\n",
        "print(keyword.kwlist)"
      ],
      "metadata": {
        "colab": {
          "base_uri": "https://localhost:8080/"
        },
        "id": "7dfBGWVpvUnJ",
        "outputId": "8cd45949-4dcc-4fdd-b500-e8470968ff29"
      },
      "execution_count": 3,
      "outputs": [
        {
          "output_type": "stream",
          "name": "stdout",
          "text": [
            "['False', 'None', 'True', 'and', 'as', 'assert', 'async', 'await', 'break', 'class', 'continue', 'def', 'del', 'elif', 'else', 'except', 'finally', 'for', 'from', 'global', 'if', 'import', 'in', 'is', 'lambda', 'nonlocal', 'not', 'or', 'pass', 'raise', 'return', 'try', 'while', 'with', 'yield']\n"
          ]
        }
      ]
    },
    {
      "cell_type": "code",
      "source": [
        "#Question 4\n",
        "\n",
        "import keyword\n",
        "\n",
        "word = input(\"Enter a word: \")\n",
        "if keyword.iskeyword(word):\n",
        "    print(f\"'{word}' is a Python keyword.\")\n",
        "else:\n",
        "    print(f\"'{word}' is not a Python keyword.\")\n"
      ],
      "metadata": {
        "colab": {
          "base_uri": "https://localhost:8080/"
        },
        "id": "OLlsoo8-vUyR",
        "outputId": "b33820ee-93f5-4441-e6c7-6a3aafecb26b"
      },
      "execution_count": 5,
      "outputs": [
        {
          "output_type": "stream",
          "name": "stdout",
          "text": [
            "Enter a word: None\n",
            "'None' is a Python keyword.\n"
          ]
        }
      ]
    },
    {
      "cell_type": "code",
      "source": [
        "#Question 5\n",
        "\n",
        "my_list = [10, 20, 30]\n",
        "my_tuple = (10, 20, 30)\n",
        "my_list[0]=100;\n",
        "print(\"List after modification:\", my_list)\n",
        "my_tuple[0]=100\n",
        "print(\"Tuple after modification:\", my_tuple)"
      ],
      "metadata": {
        "colab": {
          "base_uri": "https://localhost:8080/",
          "height": 211
        },
        "id": "Lkgu8NWovVNN",
        "outputId": "9118a630-5be3-4414-b3e8-880714ffb806"
      },
      "execution_count": 6,
      "outputs": [
        {
          "output_type": "stream",
          "name": "stdout",
          "text": [
            "List after modification: [100, 20, 30]\n"
          ]
        },
        {
          "output_type": "error",
          "ename": "TypeError",
          "evalue": "'tuple' object does not support item assignment",
          "traceback": [
            "\u001b[0;31m---------------------------------------------------------------------------\u001b[0m",
            "\u001b[0;31mTypeError\u001b[0m                                 Traceback (most recent call last)",
            "\u001b[0;32m<ipython-input-6-6eb6f4aa9e98>\u001b[0m in \u001b[0;36m<cell line: 0>\u001b[0;34m()\u001b[0m\n\u001b[1;32m      5\u001b[0m \u001b[0mmy_list\u001b[0m\u001b[0;34m[\u001b[0m\u001b[0;36m0\u001b[0m\u001b[0;34m]\u001b[0m\u001b[0;34m=\u001b[0m\u001b[0;36m100\u001b[0m\u001b[0;34m;\u001b[0m\u001b[0;34m\u001b[0m\u001b[0;34m\u001b[0m\u001b[0m\n\u001b[1;32m      6\u001b[0m \u001b[0mprint\u001b[0m\u001b[0;34m(\u001b[0m\u001b[0;34m\"List after modification:\"\u001b[0m\u001b[0;34m,\u001b[0m \u001b[0mmy_list\u001b[0m\u001b[0;34m)\u001b[0m\u001b[0;34m\u001b[0m\u001b[0;34m\u001b[0m\u001b[0m\n\u001b[0;32m----> 7\u001b[0;31m \u001b[0mmy_tuple\u001b[0m\u001b[0;34m[\u001b[0m\u001b[0;36m0\u001b[0m\u001b[0;34m]\u001b[0m\u001b[0;34m=\u001b[0m\u001b[0;36m100\u001b[0m\u001b[0;34m\u001b[0m\u001b[0;34m\u001b[0m\u001b[0m\n\u001b[0m\u001b[1;32m      8\u001b[0m \u001b[0mprint\u001b[0m\u001b[0;34m(\u001b[0m\u001b[0;34m\"Tuple after modification:\"\u001b[0m\u001b[0;34m,\u001b[0m \u001b[0mmy_tuple\u001b[0m\u001b[0;34m)\u001b[0m\u001b[0;34m\u001b[0m\u001b[0;34m\u001b[0m\u001b[0m\n",
            "\u001b[0;31mTypeError\u001b[0m: 'tuple' object does not support item assignment"
          ]
        }
      ]
    },
    {
      "cell_type": "code",
      "source": [
        "#Question 6\n",
        "\n",
        "def modify_arguments(immutable_arg, mutable_arg):\n",
        "    print(\"Before modification:\")\n",
        "    print(\"Immutable argument:\", immutable_arg)\n",
        "    print(\"Mutable argument:\", mutable_arg)\n",
        "\n",
        "    immutable_arg += 10\n",
        "    mutable_arg.append(100)\n",
        "\n",
        "    print(\"\\nAfter modification:\")\n",
        "    print(\"Immutable argument:\", immutable_arg)\n",
        "    print(\"Mutable argument:\", mutable_arg)\n",
        "\n",
        "immutable_arg = 5\n",
        "mutable_arg = [1, 2, 3]\n",
        "\n",
        "modify_arguments(immutable_arg, mutable_arg)\n",
        "print(\"\\nOutside the function:\")\n",
        "print(\"Immutable argument:\", immutable_arg)\n",
        "print(\"Mutable argument:\", mutable_arg)\n"
      ],
      "metadata": {
        "colab": {
          "base_uri": "https://localhost:8080/"
        },
        "id": "EprcPWC7vVag",
        "outputId": "933e0283-90a1-4a14-f8b8-5f173cb8abc2"
      },
      "execution_count": 7,
      "outputs": [
        {
          "output_type": "stream",
          "name": "stdout",
          "text": [
            "Before modification:\n",
            "Immutable argument: 5\n",
            "Mutable argument: [1, 2, 3]\n",
            "\n",
            "After modification:\n",
            "Immutable argument: 15\n",
            "Mutable argument: [1, 2, 3, 100]\n",
            "\n",
            "Outside the function:\n",
            "Immutable argument: 5\n",
            "Mutable argument: [1, 2, 3, 100]\n"
          ]
        }
      ]
    },
    {
      "cell_type": "code",
      "source": [
        "#Question 7\n",
        "\n",
        "num1 = float(input(\"Enter the first number: \"))\n",
        "num2 = float(input(\"Enter the second number: \"))\n",
        "\n",
        "addition = num1 + num2\n",
        "subtraction = num1 - num2\n",
        "multiplication = num1 * num2\n",
        "division = None\n",
        "\n",
        "if num2 != 0:\n",
        "    division = num1 / num2\n",
        "else:\n",
        "    division = \"Undefined (cannot divide by zero)\"\n",
        "print(\"\\nResults:\")\n",
        "print(f\"Addition: {num1} + {num2} = {addition}\")\n",
        "print(f\"Subtraction: {num1} - {num2} = {subtraction}\")\n",
        "print(f\"Multiplication: {num1} * {num2} = {multiplication}\")\n",
        "print(f\"Division: {num1} / {num2} = {division}\")\n"
      ],
      "metadata": {
        "colab": {
          "base_uri": "https://localhost:8080/"
        },
        "id": "TF_1dz__xrDO",
        "outputId": "19798626-6bde-4251-b9c2-51443deda67b"
      },
      "execution_count": 8,
      "outputs": [
        {
          "output_type": "stream",
          "name": "stdout",
          "text": [
            "Enter the first number: 4.2\n",
            "Enter the second number: 2.1\n",
            "\n",
            "Results:\n",
            "Addition: 4.2 + 2.1 = 6.300000000000001\n",
            "Subtraction: 4.2 - 2.1 = 2.1\n",
            "Multiplication: 4.2 * 2.1 = 8.82\n",
            "Division: 4.2 / 2.1 = 2.0\n"
          ]
        }
      ]
    },
    {
      "cell_type": "code",
      "source": [
        "#Question 8\n",
        "\n",
        "x = bool(int(input(\"Enter 1 for True or 0 for False for x: \")))\n",
        "y = bool(int(input(\"Enter 1 for True or 0 for False for y: \")))\n",
        "\n",
        "print(\"\\nUsing logical operators:\")\n",
        "\n",
        "if x and y:\n",
        "    print(\"x AND y is True\")\n",
        "else:\n",
        "    print(\"x AND y is False\")\n",
        "\n",
        "if x or y:\n",
        "    print(\"x OR y is True\")\n",
        "else:\n",
        "    print(\"x OR y is False\")\n",
        "\n",
        "if not x:\n",
        "    print(\"NOT x is True\")\n",
        "else:\n",
        "    print(\"NOT x is False\")\n",
        "\n",
        "if x and not y:\n",
        "    print(\"x is True and y is False\")\n",
        "else:\n",
        "    print(\"x is False or y is True\")\n"
      ],
      "metadata": {
        "colab": {
          "base_uri": "https://localhost:8080/"
        },
        "id": "LrZychWUxuPh",
        "outputId": "659c5f4e-09aa-45b8-ce04-50baa704ee13"
      },
      "execution_count": 9,
      "outputs": [
        {
          "output_type": "stream",
          "name": "stdout",
          "text": [
            "Enter 1 for True or 0 for False for x: 1\n",
            "Enter 1 for True or 0 for False for y: 0\n",
            "\n",
            "Using logical operators:\n",
            "x AND y is False\n",
            "x OR y is True\n",
            "NOT x is False\n",
            "x is True and y is False\n"
          ]
        }
      ]
    },
    {
      "cell_type": "code",
      "source": [
        "#Question 9\n",
        "\n",
        "x= input(\"Enter a value for x: \")\n",
        "y=int(x)\n",
        "z=float(x)\n",
        "a=bool(x)\n",
        "print(x,type(x))\n",
        "print(y,type(y))\n",
        "print(z,type(z))\n",
        "print(a,type(a))\n"
      ],
      "metadata": {
        "colab": {
          "base_uri": "https://localhost:8080/"
        },
        "id": "q6BwhdZGxumU",
        "outputId": "92075928-5d2c-4039-def9-1c51ff62b27a"
      },
      "execution_count": 11,
      "outputs": [
        {
          "output_type": "stream",
          "name": "stdout",
          "text": [
            "Enter a value for x: 34\n",
            "34 <class 'str'>\n",
            "34 <class 'int'>\n",
            "34.0 <class 'float'>\n",
            "True <class 'bool'>\n"
          ]
        }
      ]
    },
    {
      "cell_type": "code",
      "source": [
        "#Question 10\n",
        "#I AM HAVING DOUBT IN THIS QUESTION\n",
        "list_item=[23.5,26.7,73.9]\n",
        "for i in list_item:\n",
        "  list_item=int(i)\n",
        "\n",
        "for i in list_item:\n",
        "  print(i,type(i))"
      ],
      "metadata": {
        "colab": {
          "base_uri": "https://localhost:8080/",
          "height": 193
        },
        "id": "dKKHMIgpxu6B",
        "outputId": "ad58c0e3-e9f4-428a-865e-4915ca995e13"
      },
      "execution_count": 16,
      "outputs": [
        {
          "output_type": "error",
          "ename": "TypeError",
          "evalue": "'int' object is not iterable",
          "traceback": [
            "\u001b[0;31m---------------------------------------------------------------------------\u001b[0m",
            "\u001b[0;31mTypeError\u001b[0m                                 Traceback (most recent call last)",
            "\u001b[0;32m<ipython-input-16-d2fb00584c26>\u001b[0m in \u001b[0;36m<cell line: 0>\u001b[0;34m()\u001b[0m\n\u001b[1;32m      5\u001b[0m   \u001b[0mlist_item\u001b[0m\u001b[0;34m=\u001b[0m\u001b[0mint\u001b[0m\u001b[0;34m(\u001b[0m\u001b[0mi\u001b[0m\u001b[0;34m)\u001b[0m\u001b[0;34m\u001b[0m\u001b[0;34m\u001b[0m\u001b[0m\n\u001b[1;32m      6\u001b[0m \u001b[0;34m\u001b[0m\u001b[0m\n\u001b[0;32m----> 7\u001b[0;31m \u001b[0;32mfor\u001b[0m \u001b[0mi\u001b[0m \u001b[0;32min\u001b[0m \u001b[0mlist_item\u001b[0m\u001b[0;34m:\u001b[0m\u001b[0;34m\u001b[0m\u001b[0;34m\u001b[0m\u001b[0m\n\u001b[0m\u001b[1;32m      8\u001b[0m   \u001b[0mprint\u001b[0m\u001b[0;34m(\u001b[0m\u001b[0mi\u001b[0m\u001b[0;34m,\u001b[0m\u001b[0mtype\u001b[0m\u001b[0;34m(\u001b[0m\u001b[0mi\u001b[0m\u001b[0;34m)\u001b[0m\u001b[0;34m)\u001b[0m\u001b[0;34m\u001b[0m\u001b[0;34m\u001b[0m\u001b[0m\n",
            "\u001b[0;31mTypeError\u001b[0m: 'int' object is not iterable"
          ]
        }
      ]
    },
    {
      "cell_type": "code",
      "source": [
        "#Question 11\n",
        "\n",
        "number= 11\n",
        "if number>0:\n",
        "  print(\"Number is positive\")\n",
        "elif number<0:\n",
        "  print(\"Number is negative\")\n",
        "else:\n",
        "  print(\"Number is zero\")"
      ],
      "metadata": {
        "colab": {
          "base_uri": "https://localhost:8080/"
        },
        "id": "n_qVPaHu0dWY",
        "outputId": "469e3d6e-cf4d-458c-fd34-76fa17f23e74"
      },
      "execution_count": 17,
      "outputs": [
        {
          "output_type": "stream",
          "name": "stdout",
          "text": [
            "Number is positive\n"
          ]
        }
      ]
    },
    {
      "cell_type": "code",
      "source": [
        "#Question 12\n",
        "\n",
        "for i in range(1,11):\n",
        "  print(i,end=\" \")"
      ],
      "metadata": {
        "colab": {
          "base_uri": "https://localhost:8080/"
        },
        "id": "1MENGwcP1Rq-",
        "outputId": "2d6f408f-f12b-4d15-dc62-b09b739c9731"
      },
      "execution_count": 18,
      "outputs": [
        {
          "output_type": "stream",
          "name": "stdout",
          "text": [
            "1 2 3 4 5 6 7 8 9 10 "
          ]
        }
      ]
    },
    {
      "cell_type": "code",
      "source": [
        "#Question 13\n",
        "\n",
        "sum=0\n",
        "for i in range(1,51):\n",
        "  if i%2==0:\n",
        "    sum+=i\n",
        "  else:\n",
        "    continue\n",
        "print(sum)"
      ],
      "metadata": {
        "colab": {
          "base_uri": "https://localhost:8080/"
        },
        "id": "rnVWZkkN1aDH",
        "outputId": "3db6c1c7-8e91-42a8-ad75-355a844bdc95"
      },
      "execution_count": 19,
      "outputs": [
        {
          "output_type": "stream",
          "name": "stdout",
          "text": [
            "650\n"
          ]
        }
      ]
    },
    {
      "cell_type": "code",
      "source": [
        "#Question 14\n",
        "\n",
        "input_string = input(\"Enter a string: \")\n",
        "\n",
        "reversed_string = \"\"\n",
        "\n",
        "index = len(input_string) - 1\n",
        "\n",
        "while index >= 0:\n",
        "    reversed_string += input_string[index]\n",
        "    index -= 1\n",
        "print(\"Reversed string:\", reversed_string)\n"
      ],
      "metadata": {
        "colab": {
          "base_uri": "https://localhost:8080/"
        },
        "id": "L_uHlG9S1xAV",
        "outputId": "0c7c3906-7541-4c82-f705-78b1b82702ee"
      },
      "execution_count": 21,
      "outputs": [
        {
          "output_type": "stream",
          "name": "stdout",
          "text": [
            "Enter a string: surana\n",
            "Reversed string: anarus\n"
          ]
        }
      ]
    },
    {
      "cell_type": "code",
      "source": [
        "#Question 15\n",
        "\n",
        "number=int(input(\"Enter a number: \"))\n",
        "factorial=1\n",
        "while(number>0):\n",
        "  factorial*=number\n",
        "  number-=1\n",
        "print(factorial)"
      ],
      "metadata": {
        "colab": {
          "base_uri": "https://localhost:8080/"
        },
        "id": "S0KN68Qb2Utk",
        "outputId": "1f516192-e6b7-46a7-ebea-715655194267"
      },
      "execution_count": 22,
      "outputs": [
        {
          "output_type": "stream",
          "name": "stdout",
          "text": [
            "Enter a number: 4\n",
            "24\n"
          ]
        }
      ]
    },
    {
      "cell_type": "code",
      "source": [],
      "metadata": {
        "id": "V-KAFe3z2yyP"
      },
      "execution_count": null,
      "outputs": []
    }
  ]
}